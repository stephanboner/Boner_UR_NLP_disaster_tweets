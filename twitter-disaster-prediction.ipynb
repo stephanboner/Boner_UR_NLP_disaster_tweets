{
 "cells": [
  {
   "cell_type": "markdown",
   "metadata": {},
   "source": [
    "# Introduction\n",
    "\n",
    "This notebook contains my work and thoughts used to solve the \"Natural Language Processing with Disaster Tweets\"-Challenge as part of the recruiting process for 42hacks. The notebook consists of three parts: First, a written part that shows my thoughts, my approach and my results, followed by the code part. At the end there's the Appendix which contains the outputs, data, graphs etc. which are the basis of the first part as well as some literature and other solutions which were inspiring and supporting.\n",
    "\n",
    "***Important note:*** The task was performed on the Kaggle plattform using the GPU P100 accellerator. The measured times, iterations/s and other platform-dependent results are therefore based on the aforementioned infrastructure."
   ]
  },
  {
   "cell_type": "markdown",
   "metadata": {},
   "source": [
    "# Approach & Results\n",
    "## Steps taken *and recommended for futher improvement*\n",
    "1. Implement a Network strongly inspired by [this solution](https://www.auroria.io/nlp-disaster-tweet-text-classification-roberta-pytorch/), featuring the RoBERTa model, a version of the well known Google BERT model.\n",
    "1. Improve the NLP-NN\n",
    "    1. Limit and reduce the number of tokens per tweet by analyzing the tokenized data to improve the speed of the NN significantly\n",
    "    1. Find a faster alternative for Roberta with as little loss of accuracy as possible\n",
    "    1. Preprocess and optimize the text data to be able to use a smaller ammount of tokens thanks to the higher information density\n",
    "        1. Remove links, multiple spaces and transform to lowercase\n",
    "        1. All the points from above as well as removing mentions, retweets, all special characters and stopwords\n",
    "1. Consider the features keyword and location\n",
    "    1. Estimate the amount of information contained in keyword and location - it's quite high! (F1 of 0.68 with keyword data only)\n",
    "    1. Train a binary classifier to model the correlation between keyword and target\n",
    "    1. Combine the predictions based on the Tweet-text and the keyword to get better results\n",
    "1. *Improve further*"
   ]
  },
  {
   "cell_type": "markdown",
   "metadata": {},
   "source": [
    "## Discussion\n",
    "In this section the taken steps are discussed and the reasons for the decisions made will be explained\n",
    "\n",
    "### Step 1 - implement a first NN\n",
    "When we talk about NLP Text Classification, there is no getting around BERT and versions of it. There are also other promising approaches, such as XLNet and ELECTRA, but due to the diversity and popularity of BERT versions and the limited time available, this work will start of with a version of BERT (RoBERTa).\n",
    "The first version of the implementation was quite simple with basic tokenization, no preprocessing of the text and a basic training method (Adam, BCELoss, lr=1e-5 and early stopping after the first time the the validation loss is smaller than the best loss so far. There are not many epochs necessary as the network is already pretrained - the training here is just to adapt the network to the given task.\n",
    "With this version, one training epoch took 5:25min, the validation accuracy 0.848 and the F1-Score with the test data was 0.80169 which is not too bad.\n",
    "\n",
    "***Note:*** The F1-Score varies significantly when training the network multiple times with the same parameters, so this measure shouldn't be overrated - especially because these are test data and should NEVER be used for model selection. Also the other metrics (accuracy, loss) have some fluctuation and  should therefore also be treated with caution.\n",
    "\n",
    "### Step 2 - Improve the NLP-NN\n",
    "#### Reduce #tokens per Tweet\n",
    "First of all, the structure of the tokenized data was analyzed and it could be seen that no tweet resulted in more than 85 tokens. Thus the max_length of the tokenized input could be fixed to 85 without losing any accuracy and information but with improving the training speed from 5:25min/epoch to 1:10min/epoch, which is more than 4.5 times faster. By truncating the tokenized input, the model speed can be improved even more - around 1.6x, from 1:10min to 0:44min - without lowering the model performance (to the extent that this can be determined due to the magnitude of the aforementioned fluctuation of the metrics).\n",
    "#### Find a faster alternative for RoBERTa\n",
    "Speaking of performance, there is way more potential. Usually, performance improvements come at the cost of accuracy and so finding the right trade-off is a major challenge. In this task, there are no limits on the ressources specified as well as no real requirement of accuracy (except the expected F1-Score of 0.7 which seems relatively low). Therefore, the performance improvements are made to an extent where the ratio between improvement and loss of accuracy feels reasonable.\n",
    "In this process, four new models were tried - *google/mobilebert-uncased*, *distilroberta-base*, *distilbert-base-uncased* and *prajjwal1/bert-tiny*. As the mobilebert is optimized for mobile devices, it wasn't a fit with this plattform - the CPU became the bottleneck, not the GPU - which resulted in a longer training time than the RoBERTa. The remaining three models were evaluated and the bert-tiny has been found the most efficient with only 0:05min/epoch, which is 14x faster than the RoBERTa without truncation and 7x faster than the second fastest, distilbert-base-uncased. Here it could also been noticed, that the GPU was way below 100% utilization.\n",
    "\n",
    "If there is a higher accuracy needed, with *distilroberta-base* and *distilbert-base-uncased*, two other alternatives have been found which are almost two times faster as the untruncated RoBERTa.\n",
    "\n",
    "#### Preprocess and optimize textdata\n",
    "There are a lot of different ways to preprocess data. The goal of it is to higher the information density and reduce noise. In this work, there were two levels of preprocessing tested - a lite version which removes links (which contain no information at all as they are shortened), multiple spaces and transforms to lowercase and an other version which additionally removes mentions, retweets, all special characters and stopwords. Removing these parts results in a shorter string as well as a shorter tokenized version - ideally with a higher information density such that all information is retained. Given that the used plattform is way too powerful to be brought to the limit by this network, the tradeoff is hardly doable as measuring the performance improvement by shortening the tokenization is not straightforward. Thus we go with the lite preprocessing and the truncation at 60 tokens. Nontheless it needs to be mentioned here that the performance is also quite impressive with way less tokens, e.g. 30.\n",
    "\n",
    "### Step 3 - Consider the features keyword and location\n",
    "#### Investigate Data and implement binary classifier\n",
    "There is more data in the dataset than just the tweet text bodies. There is also a keyword and a location. Inspecting the data shows that there are 222 different keywords which are distributed quite well over the tweets - on average in the training data a keyword has 34.29 tweets, the standard deviation is 5.09 and the min number of tweets per keyword is 9, the max 61. This has the potential to be quite a good source of information (even though in theory every keyword could be distributed around equaly over the targets). Typical approaches for binary classification with few features are LogisticRegression, SVM, Naive Bayes, KNN and random forests. Of course it would also be possible to fit a simple NN to it but this feels like cracking a walnut with a sledgehammer. Fitting a simple binary classifier shows that the keyword is really helpful in classifying the tweets. Fitting a simple Gaussian Naive Bayes to the One Hot Encoded Data results in an accuracy of 72.33% and an F1-Score of 0.68081.\n",
    "The location could also contain some information, are way less well distributed though and here not further investigated as there are 4522 different locations (of which some are the same but written in a different way and 2533 tweets without a location in the training set.\n",
    "\n",
    "#### Combine Prediction data\n",
    "There are differnet approaches to combine the different predictions. The simplest way is to just average the probabilities of the NN and the binary classifier, another would be to fit a binary classifier to the probabilities. Alternatively the correlation between the probability and the label could be calculated and given as an input feature to the final classifier.\n",
    "By combining the two predictions, we can clearly show that the accuracy and the F1-score can be improved. To find exact values, many trials need to be done, but here for example an F1-Score of 0.74743 could be improved to 0.75591 by averaging the probabilities of the NN and the LogisticRegression and to 0.76767 by fitting a GaussianNB to the probabilities.\n",
    "\n",
    "### Step 4 - Improve further\n",
    "There is a lot of room for further improvement. One could try other NLP-Models like e.g. XLNet, ELECTRA as well as other versions of BERT - there are tons of models out there, e.g. [here](https://huggingface.co/models). The whole training process of the NN could be improved by implementing Cross Validation and finding ideal parameters, the best Text-Preprocessing method and number of tokens. Of course also the training method could be optimized. Additionally, one could make use of the location data and try way more ways to combine the output of the NN with the information contained in keyword and location and find the best parameters for the classifier with grid search. And last but not least, the code could be optimized for performance."
   ]
  },
  {
   "cell_type": "markdown",
   "metadata": {},
   "source": [
    "## Conclusion\n",
    "\n",
    "This work shows my approach to the problem and the necessary steps to achieve a good result given the data. Of course every step could have been made way more elaborate (more different models, parameters etc. as well as averaging over many trials to get more stable results) but given the limited amount of time, only a few variants could be tested. Still, the basis is there and from here it could be taken further and adapted to the given usecase but due to the limited time available, the goal of this work is to show how to approach this challenge, the necessary steps and finding a solution according to the pareto principle, not the optimal solution (if it ever can be found...)\n",
    "It could be shown that the NLP task can be solved with relatively little computing power with a relatively high accuracy and how the keyword data enables a better prediction with little additional effort."
   ]
  },
  {
   "cell_type": "markdown",
   "metadata": {},
   "source": [
    "# Implementation\n",
    "## Imports & Global Constants"
   ]
  },
  {
   "cell_type": "code",
   "execution_count": 173,
   "metadata": {
    "execution": {
     "iopub.execute_input": "2023-11-03T20:02:32.383053Z",
     "iopub.status.busy": "2023-11-03T20:02:32.382267Z",
     "iopub.status.idle": "2023-11-03T20:02:32.390393Z",
     "shell.execute_reply": "2023-11-03T20:02:32.389474Z",
     "shell.execute_reply.started": "2023-11-03T20:02:32.383020Z"
    }
   },
   "outputs": [],
   "source": [
    "MODEL_NAME = \"prajjwal1/bert-tiny\" #\"roberta-base\",\"google/mobilebert-uncased\", \"distilroberta-base\" \"distilbert-base-uncased\", \"prajjwal1/bert-tiny\"\n",
    "PADDING_MAX_LENGTH = 60\n",
    "PREPROCESS_TEXT = True #Be careful, in which ways the text is going to be preprocessed has to be adapted to the used model and can be defined in the DisasterData-Class by commenting/uncommenting the specific steps\n",
    "\n",
    "import numpy as np\n",
    "import pandas as pd\n",
    "import matplotlib.pyplot as plt\n",
    "\n",
    "from sklearn.preprocessing import OneHotEncoder\n",
    "from sklearn.model_selection import train_test_split\n",
    "from sklearn.linear_model import LogisticRegression\n",
    "from sklearn.svm import SVC\n",
    "from sklearn.naive_bayes import GaussianNB\n",
    "from sklearn.neighbors import KNeighborsClassifier\n",
    "from sklearn.tree import DecisionTreeClassifier\n",
    "from sklearn.metrics import accuracy_score, precision_score, recall_score, f1_score\n",
    "\n",
    "import torch\n",
    "from torch import nn\n",
    "from torch.optim import Adam\n",
    "from torch.utils.data import Dataset, DataLoader\n",
    "\n",
    "\n",
    "from transformers import AutoModel, AutoTokenizer\n",
    "\n",
    "import re\n",
    "import nltk\n",
    "import string\n",
    "from tqdm import tqdm"
   ]
  },
  {
   "cell_type": "markdown",
   "metadata": {
    "execution": {
     "iopub.execute_input": "2023-11-01T13:39:45.280823Z",
     "iopub.status.busy": "2023-11-01T13:39:45.280411Z",
     "iopub.status.idle": "2023-11-01T13:39:45.286334Z",
     "shell.execute_reply": "2023-11-01T13:39:45.284936Z",
     "shell.execute_reply.started": "2023-11-01T13:39:45.280787Z"
    }
   },
   "source": [
    "## Data\n",
    "### Read"
   ]
  },
  {
   "cell_type": "code",
   "execution_count": 2,
   "metadata": {
    "_cell_guid": "b1076dfc-b9ad-4769-8c92-a6c4dae69d19",
    "_uuid": "8f2839f25d086af736a60e9eeb907d3b93b6e0e5",
    "execution": {
     "iopub.execute_input": "2023-11-03T20:02:38.069066Z",
     "iopub.status.busy": "2023-11-03T20:02:38.068333Z",
     "iopub.status.idle": "2023-11-03T20:02:38.132643Z",
     "shell.execute_reply": "2023-11-03T20:02:38.131260Z",
     "shell.execute_reply.started": "2023-11-03T20:02:38.069034Z"
    }
   },
   "outputs": [],
   "source": [
    "train_df = pd.read_csv(\"data/train.csv\")\n",
    "test_df = pd.read_csv(\"data/test.csv\")\n",
    "sample_submission = pd.read_csv(\"data/sample_submission.csv\")\n",
    "\n",
    "train_df_unlabeld = train_df\n",
    "train_df_unlabeld.drop(\"target\", axis=1)\n",
    "all_data_unlabeld = pd.concat([train_df, test_df])\n",
    "\n",
    "sample_solution = pd.read_csv(\"data/sample_solution.csv\") #True Test Labels"
   ]
  },
  {
   "cell_type": "markdown",
   "metadata": {},
   "source": [
    "### Preprocess"
   ]
  },
  {
   "cell_type": "code",
   "execution_count": 175,
   "metadata": {
    "execution": {
     "iopub.execute_input": "2023-11-03T20:03:16.269192Z",
     "iopub.status.busy": "2023-11-03T20:03:16.268538Z",
     "iopub.status.idle": "2023-11-03T20:03:16.284597Z",
     "shell.execute_reply": "2023-11-03T20:03:16.283593Z",
     "shell.execute_reply.started": "2023-11-03T20:03:16.269160Z"
    }
   },
   "outputs": [],
   "source": [
    "all_locations = all_data_unlabeld.location.unique()\n",
    "all_keywords = all_data_unlabeld.keyword.unique()\n",
    "\n",
    "#Sparse not possible becuase of the SVM input\n",
    "locations_one_hot_encoder = OneHotEncoder(sparse_output=False, dtype=np.float32)\n",
    "locations_one_hot_encoder.fit(all_locations.reshape(-1, 1))\n",
    "n_locations = len(all_locations)\n",
    "keywords_one_hot_encoder = OneHotEncoder(sparse_output=False, dtype=np.float32)\n",
    "keywords_one_hot_encoder.fit(all_keywords.reshape(-1, 1))\n",
    "n_keywords = len(all_keywords)"
   ]
  },
  {
   "cell_type": "code",
   "execution_count": 176,
   "metadata": {
    "execution": {
     "iopub.execute_input": "2023-11-03T20:05:33.463803Z",
     "iopub.status.busy": "2023-11-03T20:05:33.462827Z",
     "iopub.status.idle": "2023-11-03T20:05:33.474209Z",
     "shell.execute_reply": "2023-11-03T20:05:33.473120Z",
     "shell.execute_reply.started": "2023-11-03T20:05:33.463763Z"
    }
   },
   "outputs": [],
   "source": [
    "# This class is here to generate and hold tokenized data from the raw dataset. If desired, the texts can also be preprocessed.\n",
    "class DisasterData(Dataset):\n",
    "    _textdata = None\n",
    "    _labels = None\n",
    "    \n",
    "    #Expects a Pandas Dataframe, a Tokenizer, max_length for padding/truncation and a boolean if preprocessing of the texts is wanted.\n",
    "    def __init__(self, dataframe, tokenizer, max_length=100, preprocess_text=True):\n",
    "        textdata = dataframe.text.values.tolist()\n",
    "        if preprocess_text:\n",
    "            textdata = [self._preprocess_text(text) for text in textdata]\n",
    "        self._textdata = [tokenizer(text, padding='max_length', max_length=max_length, truncation=True, return_tensors=\"pt\") for text in textdata]\n",
    "            \n",
    "        if 'target' in dataframe:\n",
    "            self._labels = dataframe.target.values.tolist()\n",
    "        else:\n",
    "            self._labels = [-1 for x in range(dataframe.shape[0])]\n",
    "    \n",
    "    def _preprocess_text(self, text):\n",
    "        #text = re.sub(r'(@.*?)[\\s]', ' ', text) #remove mentions\n",
    "        text = re.sub(r'\\s+', ' ', text) #remove multiple spaces\n",
    "        #text = re.sub(r'^RT[\\s]+', ' ', text) #remove retweets\n",
    "        text = re.sub(r'https?:\\/\\/[^\\s\\n\\r]+', ' ', text) #remove links (contain no information because of th shortening)\n",
    "        #text = text.replace(\"&amp;\", \" \") #remove ampersands\n",
    "        #text = re.sub(r'#', ' ', text) #remove hashes\n",
    "        #text = re.sub(r'[^\\w\\s]', ' ', text) #remove special characters\n",
    "        #text = re.sub(r'\\d+', ' ', text) #remove numbers\n",
    "        text = text.lower() #lowercase\n",
    "        #text = ''.join(character for character in text if character not in string.punctuation) #remove punctuation\n",
    "        \n",
    "        #remove stopwords\n",
    "        #text_tokens = nltk.word_tokenize(text, language=\"english\")\n",
    "        #stop_words = nltk.corpus.stopwords.words('english')\n",
    "        #text_tokens = [token for token in text_tokens if token not in stop_words]\n",
    "        #porter = nltk.stem.porter.PorterStemmer()\n",
    "        #text_tokens = [porter.stem(token) for token in text_tokens]\n",
    "        #text = \" \".join(text_tokens)\n",
    "        \n",
    "        return text\n",
    "        \n",
    "    def __len__(self):\n",
    "        return len(self._textdata)\n",
    "\n",
    "    def __getitem__(self, idx):\n",
    "        return self._textdata[idx], self._labels[idx]\n",
    "    \n",
    "    def get_tokenized_data(self):\n",
    "        return self._textdata"
   ]
  },
  {
   "cell_type": "markdown",
   "metadata": {},
   "source": [
    "### Analyze"
   ]
  },
  {
   "cell_type": "code",
   "execution_count": 177,
   "metadata": {
    "execution": {
     "iopub.execute_input": "2023-11-03T20:05:46.348352Z",
     "iopub.status.busy": "2023-11-03T20:05:46.347657Z",
     "iopub.status.idle": "2023-11-03T20:05:49.586379Z",
     "shell.execute_reply": "2023-11-03T20:05:49.585497Z",
     "shell.execute_reply.started": "2023-11-03T20:05:46.348316Z"
    }
   },
   "outputs": [
    {
     "name": "stderr",
     "output_type": "stream",
     "text": [
      "Asking to pad to max_length but no maximum length is provided and the model has no predefined maximum length. Default to no padding.\n",
      "Asking to truncate to max_length but no maximum length is provided and the model has no predefined maximum length. Default to no truncation.\n"
     ]
    },
    {
     "data": {
      "image/png": "[encoded data removed]",
      "text/plain": [
       "<Figure size 640x480 with 1 Axes>"
      ]
     },
     "metadata": {},
     "output_type": "display_data"
    }
   ],
   "source": [
    "#The way of tokenization depends on the chosen Network. Roberta uses Byte Pair Encoding(BPE) for example, so a reasonable max_length depends on the tokenization\n",
    "tokenizer = AutoTokenizer.from_pretrained(MODEL_NAME)\n",
    "analysis_data = DisasterData(all_data_unlabeld, tokenizer, max_length=None, preprocess_text=PREPROCESS_TEXT)\n",
    "\n",
    "num_tokens = [] \n",
    "for d in analysis_data.get_tokenized_data():\n",
    "    num_tokens.append(int(torch.sum(d[\"attention_mask\"]).numpy()))\n",
    "\n",
    "min_ = np.min(num_tokens)\n",
    "max_ = np.max(num_tokens)\n",
    "plt.hist(num_tokens, range=(min_,max_+1), bins=max_-min_+1)\n",
    "plt.title('Distribution of the number of tokens ({})'.format(MODEL_NAME))\n",
    "plt.xlabel('#Tokens [{}, {}]'.format(min_, max_))\n",
    "plt.ylabel('Frequency')\n",
    "plt.show()"
   ]
  },
  {
   "cell_type": "markdown",
   "metadata": {
    "execution": {
     "iopub.execute_input": "2023-11-01T13:42:44.096271Z",
     "iopub.status.busy": "2023-11-01T13:42:44.095887Z",
     "iopub.status.idle": "2023-11-01T13:42:44.101663Z",
     "shell.execute_reply": "2023-11-01T13:42:44.100344Z",
     "shell.execute_reply.started": "2023-11-01T13:42:44.096241Z"
    }
   },
   "source": [
    "## NLP-NN\n",
    "### Implementation"
   ]
  },
  {
   "cell_type": "code",
   "execution_count": 178,
   "metadata": {
    "execution": {
     "iopub.execute_input": "2023-11-03T20:07:55.802097Z",
     "iopub.status.busy": "2023-11-03T20:07:55.801353Z",
     "iopub.status.idle": "2023-11-03T20:07:55.820116Z",
     "shell.execute_reply": "2023-11-03T20:07:55.819030Z",
     "shell.execute_reply.started": "2023-11-03T20:07:55.802062Z"
    }
   },
   "outputs": [],
   "source": [
    "class DisasterPredictor(nn.Module):\n",
    "    def __init__(self, model_name):\n",
    "        super().__init__()\n",
    "        self._automodel = AutoModel.from_pretrained(model_name)\n",
    "        \n",
    "        if model_name == \"prajjwal1/bert-tiny\":\n",
    "            self.fc1 = nn.Linear(128, 32)\n",
    "        elif model_name == \"google/mobilebert-uncased\":\n",
    "            self.fc1 = nn.Linear(512, 32)\n",
    "        else:\n",
    "            self.fc1 = nn.Linear(768, 32)\n",
    "        self.fc2 = nn.Linear(32, 1)\n",
    "        self.relu = nn.ReLU()\n",
    "        self.sigmoid = nn.Sigmoid()\n",
    "    \n",
    "    def forward(self, input_ids, attention_mask):\n",
    "        automodel_out = self._automodel(input_ids=input_ids, attention_mask=attention_mask).last_hidden_state[:, 0]\n",
    "        x = self.fc1(automodel_out)\n",
    "        x = self.relu(x)\n",
    "        x = self.fc2(x)\n",
    "        x = self.sigmoid(x)\n",
    "        return x\n",
    "    \n",
    "def train(model, train_dataloader, val_dataloader, learning_rate, epochs):\n",
    "    device = \"cuda\" if torch.cuda.is_available() else \"cpu\"\n",
    "    model.to(device)\n",
    "    best_val_loss = float('inf')\n",
    "    early_stopping_threshold_count = 0\n",
    "    criterion = nn.BCELoss()\n",
    "    optimizer = Adam(model.parameters(), lr=learning_rate)\n",
    "    criterion = criterion.to(device)\n",
    "\n",
    "    for epoch in range(epochs):\n",
    "        total_acc_train = 0\n",
    "        total_loss_train = 0    \n",
    "        model.train()\n",
    "        \n",
    "        for train_input, train_label in tqdm(train_dataloader):\n",
    "            attention_mask = train_input['attention_mask'].to(device)\n",
    "            input_ids = train_input['input_ids'].squeeze(1).to(device)\n",
    "            train_label = train_label.to(device)\n",
    "            output = model(input_ids, attention_mask)\n",
    "            loss = criterion(output, train_label.float().unsqueeze(1))\n",
    "            total_loss_train += loss.item()\n",
    "            acc = ((output >= 0.5).int() == train_label.unsqueeze(1)).sum().item()\n",
    "            total_acc_train += acc\n",
    "            loss.backward()\n",
    "            optimizer.step()\n",
    "            optimizer.zero_grad()\n",
    "\n",
    "        with torch.no_grad():\n",
    "            total_acc_val = 0\n",
    "            total_loss_val = 0\n",
    "            model.eval()\n",
    "            \n",
    "            for val_input, val_label in tqdm(val_dataloader):\n",
    "                attention_mask = val_input['attention_mask'].to(device)\n",
    "                input_ids = val_input['input_ids'].squeeze(1).to(device)\n",
    "                val_label = val_label.to(device)\n",
    "                output = model(input_ids, attention_mask)\n",
    "                loss = criterion(output, val_label.float().unsqueeze(1))\n",
    "                total_loss_val += loss.item()\n",
    "                acc = ((output >= 0.5).int() == val_label.unsqueeze(1)).sum().item()\n",
    "                total_acc_val += acc\n",
    "                \n",
    "            print(f'Epochs: {epoch + 1} '\n",
    "                  f'| Train Loss: {total_loss_train / len(train_dataloader): .3f} '\n",
    "                  f'| Train Accuracy: {total_acc_train / (len(train_dataloader.dataset)): .3f} '\n",
    "                  f'| Val Loss: {total_loss_val / len(val_dataloader): .3f} '\n",
    "                  f'| Val Accuracy: {total_acc_val / len(val_dataloader.dataset): .3f}')\n",
    "            \n",
    "            if best_val_loss > total_loss_val:\n",
    "                best_val_loss = total_loss_val\n",
    "                torch.save(model, f\"best_model.pt\")\n",
    "                print(\"Saved model\")\n",
    "                early_stopping_threshold_count = 0\n",
    "            else:\n",
    "                early_stopping_threshold_count += 1\n",
    "                \n",
    "            if early_stopping_threshold_count >= 1:\n",
    "                print(\"Early stopping\")\n",
    "                break"
   ]
  },
  {
   "cell_type": "markdown",
   "metadata": {},
   "source": [
    "### Configuration & Training"
   ]
  },
  {
   "cell_type": "code",
   "execution_count": 182,
   "metadata": {
    "execution": {
     "iopub.execute_input": "2023-11-03T20:11:25.957467Z",
     "iopub.status.busy": "2023-11-03T20:11:25.956833Z",
     "iopub.status.idle": "2023-11-03T20:12:26.336818Z",
     "shell.execute_reply": "2023-11-03T20:12:26.335856Z",
     "shell.execute_reply.started": "2023-11-03T20:11:25.957433Z"
    }
   },
   "outputs": [
    {
     "name": "stderr",
     "output_type": "stream",
     "text": [
      "100%|██████████| 762/762 [00:05<00:00, 132.94it/s]\n",
      "100%|██████████| 191/191 [00:00<00:00, 347.21it/s]\n"
     ]
    },
    {
     "name": "stdout",
     "output_type": "stream",
     "text": [
      "Epochs: 1 | Train Loss:  0.613 | Train Accuracy:  0.678 | Val Loss:  0.528 | Val Accuracy:  0.763\n",
      "Saved model\n"
     ]
    },
    {
     "name": "stderr",
     "output_type": "stream",
     "text": [
      "100%|██████████| 762/762 [00:05<00:00, 132.49it/s]\n",
      "100%|██████████| 191/191 [00:00<00:00, 344.30it/s]\n"
     ]
    },
    {
     "name": "stdout",
     "output_type": "stream",
     "text": [
      "Epochs: 2 | Train Loss:  0.515 | Train Accuracy:  0.769 | Val Loss:  0.471 | Val Accuracy:  0.793\n",
      "Saved model\n"
     ]
    },
    {
     "name": "stderr",
     "output_type": "stream",
     "text": [
      "100%|██████████| 762/762 [00:05<00:00, 132.17it/s]\n",
      "100%|██████████| 191/191 [00:00<00:00, 353.27it/s]\n"
     ]
    },
    {
     "name": "stdout",
     "output_type": "stream",
     "text": [
      "Epochs: 3 | Train Loss:  0.466 | Train Accuracy:  0.794 | Val Loss:  0.451 | Val Accuracy:  0.800\n",
      "Saved model\n"
     ]
    },
    {
     "name": "stderr",
     "output_type": "stream",
     "text": [
      "100%|██████████| 762/762 [00:05<00:00, 128.57it/s]\n",
      "100%|██████████| 191/191 [00:00<00:00, 354.29it/s]\n"
     ]
    },
    {
     "name": "stdout",
     "output_type": "stream",
     "text": [
      "Epochs: 4 | Train Loss:  0.441 | Train Accuracy:  0.805 | Val Loss:  0.437 | Val Accuracy:  0.814\n",
      "Saved model\n"
     ]
    },
    {
     "name": "stderr",
     "output_type": "stream",
     "text": [
      "100%|██████████| 762/762 [00:05<00:00, 132.14it/s]\n",
      "100%|██████████| 191/191 [00:00<00:00, 351.52it/s]\n"
     ]
    },
    {
     "name": "stdout",
     "output_type": "stream",
     "text": [
      "Epochs: 5 | Train Loss:  0.414 | Train Accuracy:  0.820 | Val Loss:  0.423 | Val Accuracy:  0.818\n",
      "Saved model\n"
     ]
    },
    {
     "name": "stderr",
     "output_type": "stream",
     "text": [
      "100%|██████████| 762/762 [00:05<00:00, 134.47it/s]\n",
      "100%|██████████| 191/191 [00:00<00:00, 355.88it/s]\n"
     ]
    },
    {
     "name": "stdout",
     "output_type": "stream",
     "text": [
      "Epochs: 6 | Train Loss:  0.398 | Train Accuracy:  0.830 | Val Loss:  0.420 | Val Accuracy:  0.821\n",
      "Saved model\n"
     ]
    },
    {
     "name": "stderr",
     "output_type": "stream",
     "text": [
      "100%|██████████| 762/762 [00:05<00:00, 128.87it/s]\n",
      "100%|██████████| 191/191 [00:00<00:00, 347.20it/s]\n"
     ]
    },
    {
     "name": "stdout",
     "output_type": "stream",
     "text": [
      "Epochs: 7 | Train Loss:  0.380 | Train Accuracy:  0.840 | Val Loss:  0.418 | Val Accuracy:  0.823\n",
      "Saved model\n"
     ]
    },
    {
     "name": "stderr",
     "output_type": "stream",
     "text": [
      "100%|██████████| 762/762 [00:05<00:00, 132.90it/s]\n",
      "100%|██████████| 191/191 [00:00<00:00, 350.94it/s]\n"
     ]
    },
    {
     "name": "stdout",
     "output_type": "stream",
     "text": [
      "Epochs: 8 | Train Loss:  0.364 | Train Accuracy:  0.853 | Val Loss:  0.418 | Val Accuracy:  0.821\n",
      "Saved model\n"
     ]
    },
    {
     "name": "stderr",
     "output_type": "stream",
     "text": [
      "100%|██████████| 762/762 [00:05<00:00, 128.65it/s]\n",
      "100%|██████████| 191/191 [00:00<00:00, 343.27it/s]"
     ]
    },
    {
     "name": "stdout",
     "output_type": "stream",
     "text": [
      "Epochs: 9 | Train Loss:  0.349 | Train Accuracy:  0.856 | Val Loss:  0.426 | Val Accuracy:  0.821\n",
      "Early stopping\n"
     ]
    },
    {
     "name": "stderr",
     "output_type": "stream",
     "text": [
      "\n"
     ]
    }
   ],
   "source": [
    "data_args = {\n",
    "    \"max_length\" : PADDING_MAX_LENGTH,\n",
    "    \"tokenizer\" : AutoTokenizer.from_pretrained(MODEL_NAME),\n",
    "    \"preprocess_text\" : PREPROCESS_TEXT,\n",
    "}\n",
    "\n",
    "train_df_, val_df_ = train_test_split(train_df, test_size=0.2, shuffle=True, random_state=42)\n",
    "train_ds = DisasterData(train_df_, **data_args)\n",
    "val_ds = DisasterData(val_df_, **data_args)\n",
    "train_dataloader = DataLoader(train_ds, batch_size=8, shuffle=True, num_workers=0)\n",
    "val_dataloader = DataLoader(val_ds, batch_size=8, num_workers=0)\n",
    "\n",
    "model = DisasterPredictor(MODEL_NAME)\n",
    "train(model, train_dataloader, val_dataloader, 1e-5, 20)"
   ]
  },
  {
   "cell_type": "markdown",
   "metadata": {},
   "source": [
    "### Evaluation"
   ]
  },
  {
   "cell_type": "code",
   "execution_count": 183,
   "metadata": {
    "execution": {
     "iopub.execute_input": "2023-11-03T20:12:26.338918Z",
     "iopub.status.busy": "2023-11-03T20:12:26.338623Z",
     "iopub.status.idle": "2023-11-03T20:12:26.346340Z",
     "shell.execute_reply": "2023-11-03T20:12:26.345362Z",
     "shell.execute_reply.started": "2023-11-03T20:12:26.338892Z"
    }
   },
   "outputs": [],
   "source": [
    "def get_text_predictions(model, loader):\n",
    "    device = \"cuda\" if torch.cuda.is_available() else \"cpu\"\n",
    "    model = model.to(device)\n",
    "    \n",
    "    results_predictions = []\n",
    "    results_probabilities = []\n",
    "    with torch.no_grad():\n",
    "        model.eval()\n",
    "        for data_input, _ in tqdm(loader):\n",
    "            attention_mask = data_input['attention_mask'].to(device)\n",
    "            input_ids = data_input['input_ids'].squeeze(1).to(device)\n",
    "            output = model(input_ids, attention_mask)\n",
    "            results_probabilities.append(output)\n",
    "            output = (output > 0.5).int()\n",
    "            results_predictions.append(output)\n",
    "    \n",
    "    return torch.cat(results_predictions).cpu().detach().numpy(), torch.cat(results_probabilities).cpu().detach().numpy(), "
   ]
  },
  {
   "cell_type": "code",
   "execution_count": 184,
   "metadata": {
    "execution": {
     "iopub.execute_input": "2023-11-03T20:12:26.348034Z",
     "iopub.status.busy": "2023-11-03T20:12:26.347625Z",
     "iopub.status.idle": "2023-11-03T20:12:28.373072Z",
     "shell.execute_reply": "2023-11-03T20:12:28.372080Z",
     "shell.execute_reply.started": "2023-11-03T20:12:26.348000Z"
    }
   },
   "outputs": [
    {
     "name": "stderr",
     "output_type": "stream",
     "text": [
      "100%|██████████| 408/408 [00:01<00:00, 368.44it/s]"
     ]
    },
    {
     "name": "stdout",
     "output_type": "stream",
     "text": [
      "F1-Score: 0.7474348855564324\n"
     ]
    },
    {
     "name": "stderr",
     "output_type": "stream",
     "text": [
      "\n"
     ]
    }
   ],
   "source": [
    "test_ds = DisasterData(test_df, **data_args)\n",
    "test_dataloader = DataLoader(test_ds, batch_size=8, num_workers=0)\n",
    "\n",
    "model = torch.load(\"best_model.pt\")\n",
    "nlp_prediction, nlp_probabilities  = get_text_predictions(model, test_dataloader)\n",
    "\n",
    "f1 = f1_score(sample_solution[\"target\"], nlp_prediction)\n",
    "print(\"F1-Score:\", f1)"
   ]
  },
  {
   "cell_type": "markdown",
   "metadata": {},
   "source": [
    "## Binary Classification with Keyword and Location\n",
    "### Evaluate different Classifiers"
   ]
  },
  {
   "cell_type": "code",
   "execution_count": 185,
   "metadata": {
    "execution": {
     "iopub.execute_input": "2023-11-03T20:14:02.952557Z",
     "iopub.status.busy": "2023-11-03T20:14:02.952136Z",
     "iopub.status.idle": "2023-11-03T20:14:09.229127Z",
     "shell.execute_reply": "2023-11-03T20:14:09.228216Z",
     "shell.execute_reply.started": "2023-11-03T20:14:02.952526Z"
    }
   },
   "outputs": [
    {
     "name": "stdout",
     "output_type": "stream",
     "text": [
      "LogisticRegression()\n",
      "Accuracy: 0.7214220042905302\n",
      "Precision: 0.6967278531524341\n",
      "Recall: 0.6226818830242511\n",
      "F1-Score: 0.6576271186440678\n",
      "\n",
      "SVC(kernel='linear')\n",
      "Accuracy: 0.7214220042905302\n",
      "Precision: 0.6967278531524341\n",
      "Recall: 0.6226818830242511\n",
      "F1-Score: 0.6576271186440678\n",
      "\n",
      "GaussianNB()\n",
      "Accuracy: 0.7232608029420778\n",
      "Precision: 0.6748423265592152\n",
      "Recall: 0.6868758915834522\n",
      "F1-Score: 0.6808059384941676\n",
      "\n",
      "KNeighborsClassifier()\n",
      "Accuracy: 0.7094698130554704\n",
      "Precision: 0.6683976261127597\n",
      "Recall: 0.6426533523537803\n",
      "F1-Score: 0.6552727272727272\n",
      "\n",
      "DecisionTreeClassifier()\n",
      "Accuracy: 0.7214220042905302\n",
      "Precision: 0.6967278531524341\n",
      "Recall: 0.6226818830242511\n",
      "F1-Score: 0.6576271186440678\n",
      "\n"
     ]
    }
   ],
   "source": [
    "train_locations_oh = locations_one_hot_encoder.transform(train_df.location.values.reshape(-1,1))\n",
    "test_locations_oh = locations_one_hot_encoder.transform(test_df.location.values.reshape(-1,1))\n",
    "train_keywords_oh = keywords_one_hot_encoder.transform(train_df.keyword.values.reshape(-1, 1))\n",
    "test_keywords_oh = keywords_one_hot_encoder.transform(test_df.keyword.values.reshape(-1, 1))\n",
    "\n",
    "#train_kl = np.concatenate((train_locations_oh, train_keywords_oh), axis=1)\n",
    "#test_kl = np.concatenate((test_locations_oh, test_keywords_oh), axis=1)\n",
    "\n",
    "train_kl = train_keywords_oh\n",
    "test_kl = test_keywords_oh\n",
    "\n",
    "def train_eval_sk_model(model, train_data=train_kl, train_labels=train_df.target, test_data=test_kl, solution=sample_solution[\"target\"]):\n",
    "    model.fit(train_data, train_labels)\n",
    "    prediction = model.predict(test_data)\n",
    "    print(model)\n",
    "    print(\"Accuracy:\", accuracy_score(solution, prediction))\n",
    "    print(\"Precision:\", precision_score(solution, prediction))\n",
    "    print(\"Recall:\", recall_score(solution, prediction))\n",
    "    print(\"F1-Score:\", f1_score(solution, prediction))\n",
    "    print(\"\")\n",
    "    \n",
    "for model in [LogisticRegression(), SVC(kernel='linear'), GaussianNB(), KNeighborsClassifier(), DecisionTreeClassifier()]:\n",
    "    train_eval_sk_model(model)"
   ]
  },
  {
   "cell_type": "markdown",
   "metadata": {},
   "source": [
    "### Generate Prediction for combination"
   ]
  },
  {
   "cell_type": "code",
   "execution_count": 189,
   "metadata": {
    "execution": {
     "iopub.execute_input": "2023-11-03T20:16:22.409917Z",
     "iopub.status.busy": "2023-11-03T20:16:22.409266Z",
     "iopub.status.idle": "2023-11-03T20:16:22.468120Z",
     "shell.execute_reply": "2023-11-03T20:16:22.466638Z",
     "shell.execute_reply.started": "2023-11-03T20:16:22.409888Z"
    }
   },
   "outputs": [],
   "source": [
    "mod = LogisticRegression()\n",
    "mod.fit(train_keywords_oh, train_df.target)\n",
    "supplementary_data_prediction = mod.predict_proba(test_keywords_oh)"
   ]
  },
  {
   "cell_type": "markdown",
   "metadata": {},
   "source": [
    "## Result combination\n",
    "### Average"
   ]
  },
  {
   "cell_type": "code",
   "execution_count": 193,
   "metadata": {
    "execution": {
     "iopub.execute_input": "2023-11-03T20:17:44.083275Z",
     "iopub.status.busy": "2023-11-03T20:17:44.082546Z",
     "iopub.status.idle": "2023-11-03T20:17:44.095610Z",
     "shell.execute_reply": "2023-11-03T20:17:44.094785Z",
     "shell.execute_reply.started": "2023-11-03T20:17:44.083242Z"
    }
   },
   "outputs": [
    {
     "name": "stdout",
     "output_type": "stream",
     "text": [
      "F1-Score: 0.7559055118110235\n"
     ]
    }
   ],
   "source": [
    "final_prediction = (nlp_probabilities+supplementary_data_prediction[:,1:])/2\n",
    "print(\"F1-Score:\", f1_score(sample_solution[\"target\"], np.round(final_prediction)))"
   ]
  },
  {
   "cell_type": "markdown",
   "metadata": {},
   "source": [
    "### Classifier"
   ]
  },
  {
   "cell_type": "code",
   "execution_count": 194,
   "metadata": {
    "execution": {
     "iopub.execute_input": "2023-11-03T20:18:52.284673Z",
     "iopub.status.busy": "2023-11-03T20:18:52.284300Z",
     "iopub.status.idle": "2023-11-03T20:18:58.191720Z",
     "shell.execute_reply": "2023-11-03T20:18:58.190185Z",
     "shell.execute_reply.started": "2023-11-03T20:18:52.284643Z"
    }
   },
   "outputs": [
    {
     "name": "stderr",
     "output_type": "stream",
     "text": [
      "100%|██████████| 952/952 [00:02<00:00, 376.50it/s]\n"
     ]
    },
    {
     "name": "stdout",
     "output_type": "stream",
     "text": [
      "F1-Score: 0.767669172932331\n"
     ]
    }
   ],
   "source": [
    "train_ds_full = DisasterData(train_df, **data_args)\n",
    "train_dl_full = DataLoader(train_ds_full, batch_size=8, num_workers=0)\n",
    "model = torch.load(\"best_model.pt\")\n",
    "nlp_prediction_X, nlp_probabilities_X  = get_text_predictions(model, train_dl_full)\n",
    "\n",
    "supplementary_data_X = mod.predict_proba(train_keywords_oh)[:,1:]\n",
    "X_train_probas = np.concatenate((nlp_probabilities_X, supplementary_data_X), axis=1)\n",
    "y_train_labels = train_df.target\n",
    "\n",
    "X_test_probas = np.concatenate((nlp_probabilities, supplementary_data_prediction[:,1:]), axis=1)\n",
    "\n",
    "combiner = GaussianNB()\n",
    "combiner.fit(X_train_probas, y_train_labels)\n",
    "combined_prediction = combiner.predict(X_test_probas)\n",
    "print(\"F1-Score:\", f1_score(sample_solution[\"target\"], np.round(combined_prediction)))"
   ]
  },
  {
   "cell_type": "markdown",
   "metadata": {},
   "source": [
    "## Save Output"
   ]
  },
  {
   "cell_type": "code",
   "execution_count": 198,
   "metadata": {
    "execution": {
     "iopub.execute_input": "2023-11-03T20:32:06.621274Z",
     "iopub.status.busy": "2023-11-03T20:32:06.620867Z",
     "iopub.status.idle": "2023-11-03T20:32:06.634950Z",
     "shell.execute_reply": "2023-11-03T20:32:06.633974Z",
     "shell.execute_reply.started": "2023-11-03T20:32:06.621243Z"
    }
   },
   "outputs": [],
   "source": [
    "submission = sample_submission\n",
    "submission.target = combined_prediction\n",
    "submission.to_csv('submission.csv', index=False)"
   ]
  },
  {
   "attachments": {
    "024641d2-5c7e-4d34-b0a4-26faa5838fdb.png": {
     "image/png": "[encoded data removed]"
    },
    "03535f2e-0f0c-4383-a73f-e6fd59998f1e.png": {
     "image/png": "[encoded data removed]"
    },
    "ac6ba54e-1b5c-4224-9551-fd21f2662175.png": {
     "image/png": "[encoded data removed]"
    }
   },
   "cell_type": "markdown",
   "metadata": {},
   "source": [
    "# Appendix\n",
    "\n",
    "### Step 1 - implement a first NN\n",
    "Performance data of the NN implemented in the first step\n",
    "\n",
    "| Train Loss | Train Accuracy | Validation Loss | Validation Accuracy | Epochtime | training it/s | Full Prediction Time  | prediction it/s | f1-Score on Test Data |\n",
    "|------------|----------------|-----------------|---------------------|-----------|---------------|-----------------------|-----------------|-----------------------|\n",
    "| 0.359      | 0.856          | 0.378           | 0.848               | 05:25min  | 2.34          | 0:54min               | 7.52            | 0.80169               |\n",
    "\n",
    "### Step 2 - Improve the NLP-NN\n",
    "#### Reduce #tokens per Tweet\n",
    "Histogram of all the tokenized tweets with the Tokenizer of RoBERTa\n",
    "\n",
    "<img src=\"attachment:06aee182-fee8-4603-b9a4-acb0aa055f50.png\" width=\"500px\">\n",
    "\n",
    "Performance of the NN when reducing the token length and thus truncating some of the tokenized tweets\n",
    "\n",
    "| Max #Tokens | Train Loss | Train Accuracy | Validation Loss | Validation Accuracy | Epochtime | training it/s | Full Prediction Time  | prediction it/s | f1-Score on Test Data |\n",
    "|-------------|------------|----------------|-----------------|---------------------|-----------|---------------|-----------------------|-----------------|-----------------------|\n",
    "| 85          | 0.354      | 0.862          | 0.402           | 0.833               | 01:10min  | 10.71         | 0:09min               | 41.25           | 0.7619848612279225    |\n",
    "| 60          | 0.446      | 0.804          | 0.369           | 0.853               | 00:54min  | 14.10         | 0:07min               | 58.25           | 0.7938144329896908    |\n",
    "| 40          | 0.456      | 0.797          | 0.412           | 0.827               | 00:44min  | 17.05         | 0:05min               | 69.80           | 0.7928186714542191    |\n",
    "\n",
    "#### Find a faster alternative for RoBERTa\n",
    "\n",
    "Performance of the three remaining alternatives to RoBERTa\n",
    "\n",
    "| Base Model              | Train Loss | Train Accuracy | Validation Loss | Validation Accuracy | Epochtime | training it/s | Full Prediction Time  | prediction it/s | f1-Score on Test Data |\n",
    "|-------------------------|------------|----------------|-----------------|---------------------|-----------|---------------|-----------------------|-----------------|-----------------------|\n",
    "| distilroberta-base      | 0.361      | 0.849          | 0.391           | 0.841               | 00:38min  | 19.81         | 00:05min              | 79.88           | 0.8071748878923766    |\n",
    "| distilbert-base-uncased | 0.445      | 0.808          | 0.381           | 0.842               | 00:35min  | 21.30         | 00:04min              | 81.96           | 0.7764705882352941    |\n",
    "| prajjwal1/bert-tiny     | 0.372      | 0.843          | 0.410           | 0.826               | 00:05min  | 138.41        | 00:01min              | 317.81          | 0.7636226982337468    |\n",
    "        \n",
    "\n",
    "The three histograms of the tested alternatives. One can see that the longest token is 84 respectively 85 and thus the network performance can be compared with the limited number of tokens\n",
    "\n",
    "<img src=\"attachment:ac6ba54e-1b5c-4224-9551-fd21f2662175.png\" width=\"395px\"><img src=\"attachment:024641d2-5c7e-4d34-b0a4-26faa5838fdb.png\" width=\"410px\"><img src=\"attachment:03535f2e-0f0c-4383-a73f-e6fd59998f1e.png\" width=\"400px\">\n",
    "\n",
    "\n",
    "#### Preprocess and optimize textdata\n",
    "##### Remove links, multiple spaces and transform to lowercase\n",
    "\n",
    "Tokenized Data after preprocessing the text slightly\n",
    "\n",
    "<img src=\"attachment:4704cc44-ce89-4464-a6d3-d8d159171d93.png\" width=\"500px\">\n",
    "\n",
    "Performance relative to the truncation level\n",
    "\n",
    "| Max #Tokens | Train Loss | Train Accuracy | Validation Loss | Validation Accuracy | Epochtime | training it/s | Full Prediction Time  | prediction it/s | f1-Score on Test Data |\n",
    "|-------------|------------|----------------|-----------------|---------------------|-----------|---------------|-----------------------|-----------------|-----------------------|\n",
    "| 84          | 0.366      | 0.850          | 0.414           | 0.831               | 00:05min  | 137.31        | 00:01min              | 376.73          | 0.7630675314765356    |\n",
    "| 60          | 0.375      | 0.841          | 0.407           | 0.822               | 00:05min  | 138.27        | 00:01min              | 385.77          | 0.7579519006982156    |\n",
    "| 40          | 0.362      | 0.848          | 0.411           | 0.831               | 00:05min  | 137.94        | 00:01min              | 384.17          | 0.7587803936703975    |\n",
    "| 30          | 0.411      | 0.817          | 0.419           | 0.822               | 00:05min  | 138.14        | 00:01min              | 385.47          | 0.7468305800998848    |\n",
    "| 20          | 0.417      | 0.821          | 0.435           | 0.816               | 00:05min  | 140.83        | 00:01min              | 385.63          | 0.7363952142030104    |\n",
    "| 10          | 0.461      | 0.796          | 0.523           | 0.758               | 00:05min  | 132.96        | 00:01min              | 391.42          | 0.6677618069815195    |\n",
    "\n",
    "\n",
    "##### All the points from above as well as removing mentions, retweets, all special characters and stopwords\n",
    "\n",
    "Tokenized Data after preprocessing the text even more\n",
    "\n",
    "<img src=\"attachment:5e304fca-3720-478e-a92a-19f9d37cd952.png\" width=\"500px\">\n",
    "\n",
    "Performance relative to the truncation level\n",
    "\n",
    "\n",
    "| Max #Tokens | Train Loss | Train Accuracy | Validation Loss | Validation Accuracy | Epochtime | training it/s | Full Prediction Time  | prediction it/s | f1-Score on Test Data |\n",
    "|-------------|------------|----------------|-----------------|---------------------|-----------|---------------|-----------------------|-----------------|-----------------------|\n",
    "| 53          | 0.381      | 0.839          | 0.424           | 0.820               | 00:05min  | 137.86        | 00:01min              | 384.77          | 0.7583787996882307    |\n",
    "| 30          | 0.401      | 0.825          | 0.427           | 0.814               | 00:05min  | 138.48        | 00:01min              | 390.04          | 0.7549167927382754    |\n",
    "| 20          | 0.364      | 0.846          | 0.425           | 0.821               | 00:05min  | 136.24        | 00:01min              | 385.79          | 0.761350407450524     |\n",
    "\n",
    "\n",
    "### Step 3 - Consider the features keyword and location\n",
    "\n",
    "Information contained in keyword only - Different Classifiers run on One Hot Encoded Data\n",
    "\n",
    "| Model                  | Accuracy | Precision | Recall  | F1-Score |\n",
    "|------------------------|----------|-----------|---------|----------|\n",
    "| Logistic Regression    | 0.72142  | 0.69673   | 0.62268 | 0.65763  |\n",
    "| SVC                    | 0.72142  | 0.69673   | 0.62268 | 0.65763  |\n",
    "| GaussianNB             | 0.72326  | 0.67484   | 0.68688 | 0.68081  |\n",
    "| KNeighborsClassifier   | 0.70947  | 0.66840   | 0.64265 | 0.65527  |\n",
    "| DecisionTreeClassifier | 0.72142  | 0.69673   | 0.62268 | 0.65763  |\n",
    "\n",
    "Information contained in keyword only - Different Classifiers run on One Hot Encoded Data\n",
    "\n",
    "| Model                  | Accuracy | Precision | Recall  | F1-Score |\n",
    "|------------------------|----------|-----------|---------|----------|\n",
    "| Logistic Regression    | 0.60006  | 0.61687   | 0.18260 | 0.28178  |\n",
    "| SVC                    | 0.60006  | 0.61687   | 0.18260 | 0.28178  |\n",
    "| GaussianNB             | 0.44499  | 0.43393   | 0.95792 | 0.59729  |\n",
    "| KNeighborsClassifier   | 0.44560  | 0.43104   | 0.90728 | 0.58442  |\n",
    "| DecisionTreeClassifier | 0.60006  | 0.61687   | 0.18260 | 0.28178  |\n",
    "\n",
    "Result of the classifier with combined data\n",
    "\n",
    "| Model                  | Accuracy | Precision | Recall  | F1-Score |\n",
    "|------------------------|----------|-----------|---------|----------|\n",
    "| Logistic Regression    | 0.72081  | 0.69751   | 0.61840 | 0.65558  |\n",
    "| SVC                    | 0.71621  | 0.68711   | 0.62340 | 0.65370  |\n",
    "| GaussianNB             | 0.44713  | 0.43482   | 0.95649 | 0.59786  |\n",
    "| KNeighborsClassifier   | 0.69415  | 0.65708   | 0.60271 | 0.62872  |\n",
    "| DecisionTreeClassifier | 0.71253  | 0.68384   | 0.61555 | 0.64790  |\n"
   ]
  },
  {
   "cell_type": "markdown",
   "metadata": {},
   "source": [
    "## Inspiration & Other Solutions\n",
    "\n",
    "- https://www.auroria.io/nlp-disaster-tweet-text-classification-roberta-pytorch/\n",
    "- https://github.com/nikjohn7/Disaster-Tweets-Kaggle\n",
    "- https://ai.plainenglish.io/nlp-my-solution-to-kaggles-disaster-tweet-competition-9973ddf48235\n",
    "- https://www.kaggle.com/code/alsayedhamdy/disaster-tweets-analysis-and-solution\n",
    "- https://github.com/levist7/NLP_Disaster_Tweet_Analysis\n",
    "- https://towardsdatascience.com/detecting-disaster-from-tweets-classical-ml-and-lstm-approach-4566871af5f7\n"
   ]
  }
 ],
 "metadata": {
  "kernelspec": {
   "display_name": "Python 3",
   "language": "python",
   "name": "python3"
  },
  "language_info": {
   "codemirror_mode": {
    "name": "ipython",
    "version": 3
   },
   "file_extension": ".py",
   "mimetype": "text/x-python",
   "name": "python",
   "nbconvert_exporter": "python",
   "pygments_lexer": "ipython3",
   "version": "3.7.3"
  }
 },
 "nbformat": 4,
 "nbformat_minor": 4
}
